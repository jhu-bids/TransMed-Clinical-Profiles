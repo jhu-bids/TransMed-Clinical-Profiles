{
 "cells": [
  {
   "cell_type": "markdown",
   "metadata": {},
   "source": [
    "# Accessing clinical profiles through Python\n",
    "\n",
    "First, we'll import `ClinicalProfileServer` from the `clinicalprofiles` client library. This also includes `Variable` and `ClinicalProfile` classes, but you can ignore them for now."
   ]
  },
  {
   "cell_type": "code",
   "execution_count": 1,
   "metadata": {},
   "outputs": [],
   "source": [
    "from clinicalprofiles import ClinicalProfileServer"
   ]
  },
  {
   "cell_type": "markdown",
   "metadata": {},
   "source": [
    "We'll set the base URL for our profile server.\n",
    "\n",
    "> Note: This will eventually change to https://hapi.clinicalprofiles.org."
   ]
  },
  {
   "cell_type": "code",
   "execution_count": 2,
   "metadata": {},
   "outputs": [],
   "source": [
    "BASE_URL = \"https://hapi.clinicalprofiles.org\""
   ]
  },
  {
   "cell_type": "markdown",
   "metadata": {},
   "source": [
    "Now we construct the `ClinicalProfileServer`, which will give us access to a list of all profiles as they appear on the server."
   ]
  },
  {
   "cell_type": "code",
   "execution_count": 3,
   "metadata": {},
   "outputs": [],
   "source": [
    "C = ClinicalProfileServer(BASE_URL)"
   ]
  },
  {
   "cell_type": "markdown",
   "metadata": {},
   "source": [
    "To see a list of available profile names, you can use the `.keys()` accessor method. Just like a dictionary, you can access a `ClinicalProfileServer` with square-bracket operators to access a particular item:"
   ]
  },
  {
   "cell_type": "code",
   "execution_count": 4,
   "metadata": {},
   "outputs": [
    {
     "data": {
      "text/plain": [
       "['jhu-asthma-profile-33-labs',\n",
       " 'jhu-asthma-profile-1-labs',\n",
       " 'jhu-asthma-profile-63-diagnoses',\n",
       " 'jhu-asthma-profile-77-diagnoses',\n",
       " 'jhu-asthma-profile-88-diagnoses',\n",
       " 'jhu-asthma-profile-17-labs',\n",
       " 'jhu-asthma-profile-16-labs',\n",
       " 'jhu-asthma-profile-89-diagnoses',\n",
       " 'jhu-asthma-profile-76-diagnoses',\n",
       " 'jhu-asthma-profile-62-diagnoses']"
      ]
     },
     "execution_count": 4,
     "metadata": {},
     "output_type": "execute_result"
    }
   ],
   "source": [
    "C.keys()"
   ]
  },
  {
   "cell_type": "code",
   "execution_count": 5,
   "metadata": {},
   "outputs": [
    {
     "name": "stdout",
     "output_type": "stream",
     "text": [
      "<ClinicalProfile type=[Lab Results] 'jhu-asthma-profile-17-labs'>\n"
     ]
    }
   ],
   "source": [
    "p = C['jhu-asthma-profile-17-labs']\n",
    "print(p)"
   ]
  },
  {
   "cell_type": "markdown",
   "metadata": {},
   "source": [
    "## Using clinical profiles after downloading\n",
    "\n",
    "You have now downloaded a `ClinicalProfile` object! We can look at what's inside it:"
   ]
  },
  {
   "cell_type": "code",
   "execution_count": 6,
   "metadata": {},
   "outputs": [
    {
     "data": {
      "text/plain": [
       "['name',\n",
       " 'last_updated',\n",
       " 'date',\n",
       " 'version',\n",
       " 'url',\n",
       " 'status',\n",
       " 'population',\n",
       " 'cohort',\n",
       " 'source',\n",
       " 'reporter',\n",
       " 'type',\n",
       " 'profile']"
      ]
     },
     "execution_count": 6,
     "metadata": {},
     "output_type": "execute_result"
    }
   ],
   "source": [
    "[s for s in vars(p) if not s.startswith(\"_\")]"
   ]
  },
  {
   "cell_type": "markdown",
   "metadata": {},
   "source": [
    "As you can see, we have access to simple metadata like `last_updated` (converted to a Python `datetime` object for your viewing pleasure) as well as `reporter`:"
   ]
  },
  {
   "cell_type": "code",
   "execution_count": 7,
   "metadata": {},
   "outputs": [
    {
     "name": "stdout",
     "output_type": "stream",
     "text": [
      "2019-01-22 13:25:51.038000+00:00\n",
      "Reported by Johns Hopkins School of Medicine\n"
     ]
    }
   ],
   "source": [
    "print(p.last_updated)\n",
    "print(f\"Reported by {p.reporter['display']}\")"
   ]
  },
  {
   "cell_type": "markdown",
   "metadata": {},
   "source": [
    "We also have access to the variables directly, using the `get_variables` method:"
   ]
  },
  {
   "cell_type": "code",
   "execution_count": 8,
   "metadata": {},
   "outputs": [
    {
     "name": "stdout",
     "output_type": "stream",
     "text": [
      "The first few variables in this profile are:\n",
      "[<Variable 'Glucose [Mass/volume] in Serum or Plasma' μ=121.78 s=65.46>, <Variable 'Glucose [Mass/volume] in Blood' μ=132.44 s=76.43>, <Variable 'Glucose [Moles/volume] in Serum or Plasma' μ=130.25 s=65.67>, <Variable 'Fasting glucose [Mass/volume] in Serum or Plasma' μ=96.41 s=38.93>, <Variable 'Potassium [Moles/volume] in Venous blood' μ=4.23 s=0.56>]\n"
     ]
    }
   ],
   "source": [
    "variables = p.get_variables()\n",
    "print(\"The first few variables in this profile are:\")\n",
    "print(variables[:5])"
   ]
  },
  {
   "cell_type": "markdown",
   "metadata": {},
   "source": [
    "If you prefer to work with data in a pandas DataFrame object instead of in the `Variable` object, you can request the variables as a dataframe, using the `as_dataframe` method. This takes the optional argument of `columns`, which can be anything in the list of:\n",
    "\n",
    "* min\n",
    "* max\n",
    "* mean\n",
    "* stdDev\n",
    "* deciles\n",
    "\n",
    "If you include `deciles`, the dataframe will contain columns of name `decile_X`, where `X` ∈ {0..9}."
   ]
  },
  {
   "cell_type": "code",
   "execution_count": 9,
   "metadata": {
    "scrolled": false
   },
   "outputs": [],
   "source": [
    "df = p.as_dataframe([\"min\", \"max\", \"deciles\"])"
   ]
  },
  {
   "cell_type": "code",
   "execution_count": 10,
   "metadata": {},
   "outputs": [
    {
     "data": {
      "text/html": [
       "<div>\n",
       "<style scoped>\n",
       "    .dataframe tbody tr th:only-of-type {\n",
       "        vertical-align: middle;\n",
       "    }\n",
       "\n",
       "    .dataframe tbody tr th {\n",
       "        vertical-align: top;\n",
       "    }\n",
       "\n",
       "    .dataframe thead th {\n",
       "        text-align: right;\n",
       "    }\n",
       "</style>\n",
       "<table border=\"1\" class=\"dataframe\">\n",
       "  <thead>\n",
       "    <tr style=\"text-align: right;\">\n",
       "      <th></th>\n",
       "      <th>decile_10</th>\n",
       "      <th>decile_20</th>\n",
       "      <th>decile_30</th>\n",
       "      <th>decile_40</th>\n",
       "      <th>decile_50</th>\n",
       "      <th>decile_60</th>\n",
       "      <th>decile_70</th>\n",
       "      <th>decile_80</th>\n",
       "      <th>decile_90</th>\n",
       "      <th>max</th>\n",
       "      <th>min</th>\n",
       "    </tr>\n",
       "  </thead>\n",
       "  <tbody>\n",
       "    <tr>\n",
       "      <th>Glucose [Mass/volume] in Serum or Plasma</th>\n",
       "      <td>79.0</td>\n",
       "      <td>86.0</td>\n",
       "      <td>90.0</td>\n",
       "      <td>95.0</td>\n",
       "      <td>101.0</td>\n",
       "      <td>109.0</td>\n",
       "      <td>120.0</td>\n",
       "      <td>141.0</td>\n",
       "      <td>186.0</td>\n",
       "      <td>1436.0</td>\n",
       "      <td>3.0</td>\n",
       "    </tr>\n",
       "    <tr>\n",
       "      <th>Glucose [Mass/volume] in Blood</th>\n",
       "      <td>84.0</td>\n",
       "      <td>91.0</td>\n",
       "      <td>96.0</td>\n",
       "      <td>101.0</td>\n",
       "      <td>107.0</td>\n",
       "      <td>116.0</td>\n",
       "      <td>130.0</td>\n",
       "      <td>153.0</td>\n",
       "      <td>208.0</td>\n",
       "      <td>907.0</td>\n",
       "      <td>36.0</td>\n",
       "    </tr>\n",
       "    <tr>\n",
       "      <th>Glucose [Moles/volume] in Serum or Plasma</th>\n",
       "      <td>84.0</td>\n",
       "      <td>91.0</td>\n",
       "      <td>96.0</td>\n",
       "      <td>101.0</td>\n",
       "      <td>108.0</td>\n",
       "      <td>116.0</td>\n",
       "      <td>131.0</td>\n",
       "      <td>157.0</td>\n",
       "      <td>208.0</td>\n",
       "      <td>571.0</td>\n",
       "      <td>30.0</td>\n",
       "    </tr>\n",
       "    <tr>\n",
       "      <th>Fasting glucose [Mass/volume] in Serum or Plasma</th>\n",
       "      <td>79.0</td>\n",
       "      <td>80.0</td>\n",
       "      <td>81.0</td>\n",
       "      <td>86.0</td>\n",
       "      <td>87.0</td>\n",
       "      <td>88.0</td>\n",
       "      <td>91.0</td>\n",
       "      <td>94.0</td>\n",
       "      <td>100.0</td>\n",
       "      <td>275.0</td>\n",
       "      <td>71.0</td>\n",
       "    </tr>\n",
       "    <tr>\n",
       "      <th>Potassium [Moles/volume] in Venous blood</th>\n",
       "      <td>3.6</td>\n",
       "      <td>3.8</td>\n",
       "      <td>4.0</td>\n",
       "      <td>4.1</td>\n",
       "      <td>4.2</td>\n",
       "      <td>4.3</td>\n",
       "      <td>4.5</td>\n",
       "      <td>4.6</td>\n",
       "      <td>4.9</td>\n",
       "      <td>9.4</td>\n",
       "      <td>1.5</td>\n",
       "    </tr>\n",
       "  </tbody>\n",
       "</table>\n",
       "</div>"
      ],
      "text/plain": [
       "                                                  decile_10  decile_20  \\\n",
       "Glucose [Mass/volume] in Serum or Plasma               79.0       86.0   \n",
       "Glucose [Mass/volume] in Blood                         84.0       91.0   \n",
       "Glucose [Moles/volume] in Serum or Plasma              84.0       91.0   \n",
       "Fasting glucose [Mass/volume] in Serum or Plasma       79.0       80.0   \n",
       "Potassium [Moles/volume] in Venous blood                3.6        3.8   \n",
       "\n",
       "                                                  decile_30  decile_40  \\\n",
       "Glucose [Mass/volume] in Serum or Plasma               90.0       95.0   \n",
       "Glucose [Mass/volume] in Blood                         96.0      101.0   \n",
       "Glucose [Moles/volume] in Serum or Plasma              96.0      101.0   \n",
       "Fasting glucose [Mass/volume] in Serum or Plasma       81.0       86.0   \n",
       "Potassium [Moles/volume] in Venous blood                4.0        4.1   \n",
       "\n",
       "                                                  decile_50  decile_60  \\\n",
       "Glucose [Mass/volume] in Serum or Plasma              101.0      109.0   \n",
       "Glucose [Mass/volume] in Blood                        107.0      116.0   \n",
       "Glucose [Moles/volume] in Serum or Plasma             108.0      116.0   \n",
       "Fasting glucose [Mass/volume] in Serum or Plasma       87.0       88.0   \n",
       "Potassium [Moles/volume] in Venous blood                4.2        4.3   \n",
       "\n",
       "                                                  decile_70  decile_80  \\\n",
       "Glucose [Mass/volume] in Serum or Plasma              120.0      141.0   \n",
       "Glucose [Mass/volume] in Blood                        130.0      153.0   \n",
       "Glucose [Moles/volume] in Serum or Plasma             131.0      157.0   \n",
       "Fasting glucose [Mass/volume] in Serum or Plasma       91.0       94.0   \n",
       "Potassium [Moles/volume] in Venous blood                4.5        4.6   \n",
       "\n",
       "                                                  decile_90     max   min  \n",
       "Glucose [Mass/volume] in Serum or Plasma              186.0  1436.0   3.0  \n",
       "Glucose [Mass/volume] in Blood                        208.0   907.0  36.0  \n",
       "Glucose [Moles/volume] in Serum or Plasma             208.0   571.0  30.0  \n",
       "Fasting glucose [Mass/volume] in Serum or Plasma      100.0   275.0  71.0  \n",
       "Potassium [Moles/volume] in Venous blood                4.9     9.4   1.5  "
      ]
     },
     "execution_count": 10,
     "metadata": {},
     "output_type": "execute_result"
    }
   ],
   "source": [
    "df.head()"
   ]
  },
  {
   "cell_type": "code",
   "execution_count": null,
   "metadata": {},
   "outputs": [],
   "source": []
  }
 ],
 "metadata": {
  "kernelspec": {
   "display_name": "Python 3",
   "language": "python",
   "name": "python3"
  },
  "language_info": {
   "codemirror_mode": {
    "name": "ipython",
    "version": 3
   },
   "file_extension": ".py",
   "mimetype": "text/x-python",
   "name": "python",
   "nbconvert_exporter": "python",
   "pygments_lexer": "ipython3",
   "version": "3.7.2"
  }
 },
 "nbformat": 4,
 "nbformat_minor": 2
}
