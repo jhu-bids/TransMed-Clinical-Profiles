{
 "cells": [
  {
   "cell_type": "code",
   "execution_count": 1,
   "metadata": {},
   "outputs": [],
   "source": [
    "from clinicalprofiles import ClinicalProfileServer, Variable\n",
    "\n",
    "C = ClinicalProfileServer(\"https://hapi.clinicalprofiles.org\")"
   ]
  },
  {
   "cell_type": "markdown",
   "metadata": {},
   "source": [
    "Get a list of all profiles on the server:"
   ]
  },
  {
   "cell_type": "code",
   "execution_count": 2,
   "metadata": {},
   "outputs": [
    {
     "data": {
      "text/plain": [
       "['jhu-eds-profile-1']"
      ]
     },
     "execution_count": 2,
     "metadata": {},
     "output_type": "execute_result"
    }
   ],
   "source": [
    "C.keys()"
   ]
  },
  {
   "cell_type": "code",
   "execution_count": 3,
   "metadata": {},
   "outputs": [],
   "source": [
    "eds = C['jhu-eds-profile-1']"
   ]
  },
  {
   "cell_type": "markdown",
   "metadata": {},
   "source": [
    "Get a list of all available variables in this profile:"
   ]
  },
  {
   "cell_type": "code",
   "execution_count": 4,
   "metadata": {},
   "outputs": [
    {
     "data": {
      "text/plain": [
       "[<Variable 'Abdominal pain'>,\n",
       " <Variable 'Abnormal heart morphology'>,\n",
       " <Variable 'Abnormal reflex'>,\n",
       " <Variable 'Abnormal renal morphology'>,\n",
       " <Variable 'Abnormality of the coagulation cascade'>,\n",
       " <Variable 'Abnormality of the nervous system'>,\n",
       " <Variable 'Acanthosis nigricans'>,\n",
       " <Variable 'Achalasia'>,\n",
       " <Variable 'Acidosis'>,\n",
       " <Variable 'Acne inversa'>,\n",
       " <Variable 'Acne'>,\n",
       " <Variable 'Actinic keratosis'>,\n",
       " <Variable 'Acute bronchitis'>,\n",
       " <Variable 'Acute sinusitis'>,\n",
       " <Variable 'Allergic rhinitis'>,\n",
       " <Variable 'Alopecia areata'>,\n",
       " <Variable 'Alternating esotropia'>,\n",
       " <Variable 'Alternating exotropia'>,\n",
       " <Variable 'Amaurosis fugax'>,\n",
       " <Variable 'Amenorrhea'>,\n",
       " <Variable 'Anal fissure'>,\n",
       " <Variable 'Anal fistula'>,\n",
       " <Variable 'Anemia'>,\n",
       " <Variable 'Angiokeratoma corporis diffusum'>,\n",
       " <Variable 'Anhidrosis'>,\n",
       " <Variable 'Anisocoria'>,\n",
       " <Variable 'Anisometropia'>,\n",
       " <Variable 'Anodontia'>,\n",
       " <Variable 'Anorexia'>,\n",
       " <Variable 'Anosmia'>,\n",
       " <Variable 'Aortic atherosclerosis'>,\n",
       " <Variable 'Aortic dissection'>,\n",
       " <Variable 'Aplastic anemia'>,\n",
       " <Variable 'Arrhythmia'>,\n",
       " <Variable 'Arterial fibromuscular dysplasia'>,\n",
       " <Variable 'Arterial stenosis'>,\n",
       " <Variable 'Arteritis'>,\n",
       " <Variable 'Arthralgia of the hip'>,\n",
       " <Variable 'Arthropathy'>,\n",
       " <Variable 'Atelectasis'>,\n",
       " <Variable 'Atrial septal defect'>,\n",
       " <Variable 'Auditory hallucinations'>,\n",
       " <Variable 'Autism'>,\n",
       " <Variable 'Back pain'>,\n",
       " <Variable 'Bacteremia'>,\n",
       " <Variable 'Bilateral sensorineural hearing impairment'>,\n",
       " <Variable 'Bipolar affective disorder'>,\n",
       " <Variable 'Bladder diverticulum'>,\n",
       " <Variable 'Blepharitis'>,\n",
       " <Variable 'Blepharospasm'>,\n",
       " <Variable 'Borderline personality disorder'>,\n",
       " <Variable 'Brachial plexus neuropathy'>,\n",
       " <Variable 'Bradycardia'>,\n",
       " <Variable 'Breast hypertrophy'>,\n",
       " <Variable 'Bronchitis'>,\n",
       " <Variable 'Budd-Chiari syndrome'>,\n",
       " <Variable 'Cachexia'>,\n",
       " <Variable 'Cafe-au-lait spot'>,\n",
       " <Variable 'Cardiomegaly'>,\n",
       " <Variable 'Cardiomyopathy'>,\n",
       " <Variable 'Carious teeth'>,\n",
       " <Variable 'Carotid artery dissection'>,\n",
       " <Variable 'Cataract'>,\n",
       " <Variable 'Celiac artery compression'>,\n",
       " <Variable 'Celiac disease'>,\n",
       " <Variable 'Cellulitis'>,\n",
       " <Variable 'Cerebral arteriovenous malformation'>,\n",
       " <Variable 'Cerebral edema'>,\n",
       " <Variable 'Cervical insufficiency'>,\n",
       " <Variable 'Cervical polyp'>,\n",
       " <Variable 'Cervical spine instability'>,\n",
       " <Variable 'Chest pain'>,\n",
       " <Variable 'Cholecystitis'>,\n",
       " <Variable 'Cholestasis'>,\n",
       " <Variable 'Chronic bronchitis'>,\n",
       " <Variable 'Chronic kidney disease'>,\n",
       " <Variable 'Chronic obstructive pulmonary disease'>,\n",
       " <Variable 'Chronic rhinitis'>,\n",
       " <Variable 'Chronic sinusitis'>,\n",
       " <Variable 'Cleft of uvula'>,\n",
       " <Variable 'Colon cancer'>,\n",
       " <Variable 'Coma'>,\n",
       " <Variable 'Complement deficiency'>,\n",
       " <Variable 'Conjunctivitis'>,\n",
       " <Variable 'Constipation'>,\n",
       " <Variable 'Coronary artery dissection'>,\n",
       " <Variable 'Cough'>,\n",
       " <Variable 'Craniosynostosis'>,\n",
       " <Variable 'Cutaneous mastocytosis'>,\n",
       " <Variable 'Cyclic neutropenia'>,\n",
       " <Variable 'Cyst of the ductus choledochus'>,\n",
       " <Variable 'Cystic liver disease'>,\n",
       " <Variable 'Cystinuria'>,\n",
       " <Variable 'Cystocele'>,\n",
       " <Variable 'Decreased HDL cholesterol concentration'>,\n",
       " <Variable 'Decreased circulating aldosterone level'>,\n",
       " <Variable 'Decreased mean corpuscular volume'>,\n",
       " <Variable 'Dehydration'>,\n",
       " <Variable 'Delayed puberty'>,\n",
       " <Variable 'Dermatographic urticaria'>,\n",
       " <Variable 'Deviated nasal septum'>,\n",
       " <Variable 'Diabetes insipidus'>,\n",
       " <Variable 'Diarrhea'>,\n",
       " <Variable 'Dilatation'>,\n",
       " <Variable 'Dilated cardiomyopathy'>,\n",
       " <Variable 'Diplopia'>,\n",
       " <Variable 'Discoid lupus rash'>,\n",
       " <Variable 'Disseminated intravascular coagulation'>,\n",
       " <Variable 'Double aortic arch'>,\n",
       " <Variable 'Dupuytren contracture'>,\n",
       " <Variable 'Dysmenorrhea'>,\n",
       " <Variable 'Dysphagia'>,\n",
       " <Variable 'Dysphasia'>,\n",
       " <Variable 'Dysphonia'>,\n",
       " <Variable 'Dyspnea'>,\n",
       " <Variable 'Dyssynergia'>,\n",
       " <Variable 'Dysuria'>,\n",
       " <Variable 'EEG abnormality'>,\n",
       " <Variable 'EXCLUDED: Abnormal HDL cholesterol concentration'>,\n",
       " <Variable 'EXCLUDED: Abnormal basophil count'>,\n",
       " <Variable 'EXCLUDED: Abnormal concentration of calcium in blood'>,\n",
       " <Variable 'EXCLUDED: Abnormal eosinophil morphology'>,\n",
       " <Variable 'EXCLUDED: Abnormal hemoglobin'>,\n",
       " <Variable 'EXCLUDED: Abnormal leukocyte count'>,\n",
       " <Variable 'EXCLUDED: Abnormal lymphocyte count'>,\n",
       " <Variable 'EXCLUDED: Abnormal mean corpuscular volume'>,\n",
       " <Variable 'EXCLUDED: Abnormal monocyte count'>,\n",
       " <Variable 'EXCLUDED: Abnormal platelet count'>,\n",
       " <Variable 'EXCLUDED: Abnormality of alkaline phosphatase activity'>,\n",
       " <Variable 'EXCLUDED: Abnormality of blood glucose concentration'>,\n",
       " <Variable 'EXCLUDED: Abnormality of cholesterol metabolism'>,\n",
       " <Variable 'EXCLUDED: Abnormality of circulating protein level'>,\n",
       " <Variable 'EXCLUDED: Abnormality of lipid metabolism'>,\n",
       " <Variable 'EXCLUDED: Abnormality of magnesium homeostasis'>,\n",
       " <Variable 'EXCLUDED: Abnormality of phosphate homeostasis'>,\n",
       " <Variable 'EXCLUDED: Abnormality of potassium homeostasis'>,\n",
       " <Variable 'EXCLUDED: Abnormality of sodium homeostasis'>,\n",
       " <Variable 'EXCLUDED: Increased total bilirubin'>,\n",
       " <Variable 'EXCLUDED: Prolonged prothrombin time'>,\n",
       " <Variable 'Ectropion'>,\n",
       " <Variable 'Edema'>,\n",
       " <Variable 'Elevated alkaline phosphatase'>,\n",
       " <Variable 'Elevated erythrocyte sedimentation rate'>,\n",
       " <Variable 'Elevated hemoglobin A1c'>,\n",
       " <Variable 'Emphysema'>,\n",
       " <Variable 'Encephalopathy'>,\n",
       " <Variable 'Endometriosis'>,\n",
       " <Variable 'Enlarged tonsils'>,\n",
       " <Variable 'Enuresis nocturna'>,\n",
       " <Variable 'Eosinophilia'>,\n",
       " <Variable 'Epigastric pain'>,\n",
       " <Variable 'Epistaxis'>,\n",
       " <Variable 'Esophageal obstruction'>,\n",
       " <Variable 'Esophagitis'>,\n",
       " <Variable 'Esophoria'>,\n",
       " <Variable 'Esotropia'>,\n",
       " <Variable 'Exophoria'>,\n",
       " <Variable 'Exotropia'>,\n",
       " <Variable 'Facial myokymia'>,\n",
       " <Variable 'Fasciculations'>,\n",
       " <Variable 'Feeding difficulties'>,\n",
       " <Variable 'Female infertility'>,\n",
       " <Variable 'Fever'>,\n",
       " <Variable 'Flushing'>,\n",
       " <Variable 'Functional respiratory abnormality'>,\n",
       " <Variable 'Gastrointestinal hemorrhage'>,\n",
       " <Variable 'Gastroparesis'>,\n",
       " <Variable 'Generalized lymphadenopathy'>,\n",
       " <Variable 'Generalized muscle weakness'>,\n",
       " <Variable 'Glaucoma'>,\n",
       " <Variable 'Glycosuria'>,\n",
       " <Variable 'Gout'>,\n",
       " <Variable 'Hallucinations'>,\n",
       " <Variable 'Headache'>,\n",
       " <Variable 'Heart murmur'>,\n",
       " <Variable 'Hematemesis'>,\n",
       " <Variable 'Hematuria'>,\n",
       " <Variable 'Hemoptysis'>,\n",
       " <Variable 'Hepatic fibrosis'>,\n",
       " <Variable 'Heteronymous hemianopia'>,\n",
       " <Variable 'Hirsutism'>,\n",
       " <Variable 'Homocystinuria'>,\n",
       " <Variable 'Horner syndrome'>,\n",
       " <Variable 'Hydrocephalus'>,\n",
       " <Variable 'Hydronephrosis'>,\n",
       " <Variable 'Hypercalcemia'>,\n",
       " <Variable 'Hypercalciuria'>,\n",
       " <Variable 'Hypercholesterolemia'>,\n",
       " <Variable 'Hyperglycemia'>,\n",
       " <Variable 'Hyperkalemia'>,\n",
       " <Variable 'Hyperlipidemia'>,\n",
       " <Variable 'Hypermagnesemia'>,\n",
       " <Variable 'Hypernatremia'>,\n",
       " <Variable 'Hyperparathyroidism'>,\n",
       " <Variable 'Hyperphosphatemia'>,\n",
       " <Variable 'Hypersomnia'>,\n",
       " <Variable 'Hypertelorism'>,\n",
       " <Variable 'Hypertriglyceridemia'>,\n",
       " <Variable 'Hypervolemia'>,\n",
       " <Variable 'Hypocalcemia'>,\n",
       " <Variable 'Hypocholesterolemia'>,\n",
       " <Variable 'Hypoglycemia'>,\n",
       " <Variable 'Hypokalemia'>,\n",
       " <Variable 'Hypomagnesemia'>,\n",
       " <Variable 'Hyponatremia'>,\n",
       " <Variable 'Hypoparathyroidism'>,\n",
       " <Variable 'Hypophosphatemia'>,\n",
       " <Variable 'Hypopituitarism'>,\n",
       " <Variable 'Hypoproteinemia'>,\n",
       " <Variable 'Hypotension'>,\n",
       " <Variable 'Hypothyroidism'>,\n",
       " <Variable 'Hypovolemia'>,\n",
       " <Variable 'Hypoxemia'>,\n",
       " <Variable 'Immunodeficiency'>,\n",
       " <Variable 'Impaired convergence'>,\n",
       " <Variable 'Inappropriate antidiuretic hormone secretion'>,\n",
       " <Variable 'Increased HDL cholesterol concentration'>,\n",
       " <Variable 'Increased basophil count'>,\n",
       " <Variable 'Increased mean corpuscular volume'>,\n",
       " <Variable 'Increased total bilirubin'>,\n",
       " <Variable 'Insomnia'>,\n",
       " <Variable 'Interstitial pulmonary abnormality'>,\n",
       " <Variable 'Intestinal fistula'>,\n",
       " <Variable 'Iridocyclitis'>,\n",
       " <Variable 'Iron deficiency anemia'>,\n",
       " <Variable 'Jaw pain'>,\n",
       " <Variable 'Juvenile epithelial corneal dystrophy'>,\n",
       " <Variable 'Kaposi's sarcoma'>,\n",
       " <Variable 'Keratitis'>,\n",
       " <Variable 'Ketonuria'>,\n",
       " <Variable 'Knee pain'>,\n",
       " <Variable 'Lactose intolerance'>,\n",
       " <Variable 'Laryngeal stenosis'>,\n",
       " <Variable 'Left bundle branch block'>,\n",
       " <Variable 'Leukocytosis'>,\n",
       " <Variable 'Leukopenia'>,\n",
       " <Variable 'Liver abscess'>,\n",
       " <Variable 'Low alkaline phosphatase'>,\n",
       " <Variable 'Low back pain'>,\n",
       " <Variable 'Lymphocytosis'>,\n",
       " <Variable 'Lymphopenia'>,\n",
       " <Variable 'Macroscopic hematuria'>,\n",
       " <Variable 'Male infertility'>,\n",
       " <Variable 'Malnutrition'>,\n",
       " <Variable 'Mandibulofacial dysostosis'>,\n",
       " <Variable 'Megalencephaly'>,\n",
       " <Variable 'Melanocytic nevus'>,\n",
       " <Variable 'Melasma'>,\n",
       " <Variable 'Melena'>,\n",
       " <Variable 'Menstrual irregularities'>,\n",
       " <Variable 'Methemoglobinemia'>,\n",
       " <Variable 'Monocytopenia'>,\n",
       " <Variable 'Monocytosis'>,\n",
       " <Variable 'Mononeuropathy'>,\n",
       " <Variable 'Monostotic fibrous dysplasia'>,\n",
       " <Variable 'Mood changes'>,\n",
       " <Variable 'Morbus Scheuermann'>,\n",
       " <Variable 'Myelopathy'>,\n",
       " <Variable 'Myopathy'>,\n",
       " <Variable 'Nail dystrophy'>,\n",
       " <Variable 'Nausea and vomiting'>,\n",
       " <Variable 'Nausea'>,\n",
       " <Variable 'Neck pain'>,\n",
       " <Variable 'Nocturia'>,\n",
       " <Variable 'Noncommunicating hydrocephalus'>,\n",
       " <Variable 'Nyctalopia'>,\n",
       " <Variable 'Nystagmus'>,\n",
       " <Variable 'Obesity'>,\n",
       " <Variable 'Obsessive-compulsive behavior'>,\n",
       " <Variable 'Obstructive sleep apnea'>,\n",
       " <Variable 'Occipital neuralgia'>,\n",
       " <Variable 'Ocular albinism'>,\n",
       " <Variable 'Ocular pain'>,\n",
       " <Variable 'Oligomenorrhea'>,\n",
       " <Variable 'Onychomycosis'>,\n",
       " <Variable 'Oppositional defiant disorder'>,\n",
       " <Variable 'Optic atrophy'>,\n",
       " <Variable 'Optic neuritis'>,\n",
       " <Variable 'Oral-pharyngeal dysphagia'>,\n",
       " <Variable 'Orthopnea'>,\n",
       " <Variable 'Orthostatic hypotension'>,\n",
       " <Variable 'Osteoarthritis of the first carpometacarpal joint'>,\n",
       " <Variable 'Osteomyelitis'>,\n",
       " <Variable 'Otitis externa'>,\n",
       " <Variable 'Otitis media'>,\n",
       " <Variable 'Overweight'>,\n",
       " <Variable 'Pain'>,\n",
       " <Variable 'Pallor'>,\n",
       " <Variable 'Palpitations'>,\n",
       " <Variable 'Pancreatic cysts'>,\n",
       " <Variable 'Papilledema'>,\n",
       " <Variable 'Parageusia'>,\n",
       " <Variable 'Parasomnia'>,\n",
       " <Variable 'Paroxysmal atrial fibrillation'>,\n",
       " <Variable 'Partial anomalous pulmonary venous return'>,\n",
       " <Variable 'Patent ductus arteriosus'>,\n",
       " <Variable 'Peritoneal abscess'>,\n",
       " <Variable 'Pilonidal abscess'>,\n",
       " <Variable 'Pleuritis'>,\n",
       " <Variable 'Pneumothorax'>,\n",
       " <Variable 'Pollakisuria'>,\n",
       " <Variable 'Polycystic kidney dysplasia'>,\n",
       " <Variable 'Polycystic ovaries'>,\n",
       " <Variable 'Polydipsia'>,\n",
       " <Variable 'Polyneuropathy'>,\n",
       " <Variable 'Polyostotic fibrous dysplasia'>,\n",
       " <Variable 'Polyotia'>,\n",
       " <Variable 'Preeclampsia'>,\n",
       " <Variable 'Premature atrial contractions'>,\n",
       " <Variable 'Primary adrenal insufficiency'>,\n",
       " <Variable 'Primary hyperparathyroidism'>,\n",
       " <Variable 'Prolactin excess'>,\n",
       " <Variable 'Prolonged prothrombin time'>,\n",
       " <Variable 'Prostate cancer'>,\n",
       " <Variable 'Proteinuria'>,\n",
       " <Variable 'Pruritus'>,\n",
       " <Variable 'Ptosis'>,\n",
       " <Variable 'Pyoderma'>,\n",
       " <Variable 'Rectal prolapse'>,\n",
       " <Variable 'Rectocele'>,\n",
       " <Variable 'Recurrent E. coli infections'>,\n",
       " <Variable 'Recurrent aphthous stomatitis'>,\n",
       " <Variable 'Renal artery atherosclerosis'>,\n",
       " <Variable 'Renal tubular dysfunction'>,\n",
       " <Variable 'Resistance to activated protein C'>,\n",
       " <Variable 'Restless legs'>,\n",
       " <Variable 'Retinal hemorrhage'>,\n",
       " <Variable 'Retinopathy'>,\n",
       " <Variable 'Retractile testis'>,\n",
       " <Variable 'Rheumatoid arthritis'>,\n",
       " <Variable 'Right aortic arch'>,\n",
       " <Variable 'Sciatica'>,\n",
       " <Variable 'Scoliosis'>,\n",
       " <Variable 'Seasonal allergy'>,\n",
       " <Variable 'Seborrheic dermatitis'>,\n",
       " <Variable 'Secondary amenorrhea'>,\n",
       " <Variable 'Sensorineural hearing impairment'>,\n",
       " <Variable 'Shoulder pain'>,\n",
       " <Variable 'Sialadenitis'>,\n",
       " <Variable 'Sick sinus syndrome'>,\n",
       " <Variable 'Simple febrile seizures'>,\n",
       " <Variable 'Skin rash'>,\n",
       " <Variable 'Sleep apnea'>,\n",
       " <Variable 'Snoring'>,\n",
       " <Variable 'Spina bifida occulta'>,\n",
       " <Variable 'Spinal dysraphism'>,\n",
       " <Variable 'Spondylolisthesis'>,\n",
       " <Variable 'Stage 1 chronic kidney disease'>,\n",
       " <Variable 'Strabismus'>,\n",
       " <Variable 'Suicidal ideation'>,\n",
       " <Variable 'Supraventricular tachycardia'>,\n",
       " <Variable 'Syncope'>,\n",
       " <Variable 'Systemic lupus erythematosus'>,\n",
       " <Variable 'Tachycardia'>,\n",
       " <Variable 'Talipes equinovarus'>,\n",
       " <Variable 'Thrombocytopenia'>,\n",
       " <Variable 'Thrombocytosis'>,\n",
       " <Variable 'Thyroiditis'>,\n",
       " <Variable 'Tinnitus'>,\n",
       " <Variable 'Torticollis'>,\n",
       " <Variable 'Transient global amnesia'>,\n",
       " <Variable 'Tremor'>,\n",
       " <Variable 'Trigeminal neuralgia'>,\n",
       " <Variable 'Trimethylaminuria'>,\n",
       " <Variable 'Unilateral renal agenesis'>,\n",
       " <Variable 'Urinary hesitancy'>,\n",
       " <Variable 'Urinary incontinence'>,\n",
       " <Variable 'Urinary retention'>,\n",
       " <Variable 'Urinary urgency'>,\n",
       " <Variable 'Urticaria'>,\n",
       " <Variable 'Uterine leiomyoma'>,\n",
       " <Variable 'Vaginismus'>,\n",
       " <Variable 'Varicocele'>,\n",
       " <Variable 'Ventricular extrasystoles'>,\n",
       " <Variable 'Ventricular tachycardia'>,\n",
       " <Variable 'Vesicoureteral reflux'>,\n",
       " <Variable 'Visual field defect'>,\n",
       " <Variable 'Visual hallucinations'>,\n",
       " <Variable 'Vitamin D deficiency'>,\n",
       " <Variable 'Vitamin E deficiency'>,\n",
       " <Variable 'Vitiligo'>,\n",
       " <Variable 'Volvulus'>,\n",
       " <Variable 'Vomiting'>,\n",
       " <Variable 'Vulvodynia'>,\n",
       " <Variable 'Wheezing'>]"
      ]
     },
     "execution_count": 4,
     "metadata": {},
     "output_type": "execute_result"
    }
   ],
   "source": [
    "eds.get_variables()"
   ]
  },
  {
   "cell_type": "markdown",
   "metadata": {},
   "source": [
    "Choose one variable, and get all phenotypes correlated with it:"
   ]
  },
  {
   "cell_type": "code",
   "execution_count": 5,
   "metadata": {},
   "outputs": [
    {
     "data": {
      "text/plain": [
       "dict_keys(['Constipation', 'Gastroparesis', 'Nausea', 'Nausea and vomiting', 'Headache', 'EXCLUDED: Abnormal eosinophil morphology', 'Flushing', 'Pain', 'Anemia', 'EXCLUDED: Abnormality of blood glucose concentration', 'EXCLUDED: Abnormal monocyte count', 'EXCLUDED: Abnormality of circulating protein level', 'EXCLUDED: Abnormal concentration of calcium in blood', 'EXCLUDED: Abnormality of sodium homeostasis', 'EXCLUDED: Abnormal basophil count', 'EXCLUDED: Increased total bilirubin', 'EXCLUDED: Abnormality of alkaline phosphatase activity', 'Menstrual irregularities', 'EXCLUDED: Abnormal platelet count', 'Urinary hesitancy'])"
      ]
     },
     "execution_count": 5,
     "metadata": {},
     "output_type": "execute_result"
    }
   ],
   "source": [
    "eds['Abdominal pain'].keys()"
   ]
  },
  {
   "cell_type": "markdown",
   "metadata": {},
   "source": [
    "See one correlation:"
   ]
  },
  {
   "cell_type": "code",
   "execution_count": 6,
   "metadata": {},
   "outputs": [
    {
     "data": {
      "text/plain": [
       "0.2581311591320852"
      ]
     },
     "execution_count": 6,
     "metadata": {},
     "output_type": "execute_result"
    }
   ],
   "source": [
    "eds['Abdominal pain']['Constipation']"
   ]
  },
  {
   "cell_type": "code",
   "execution_count": 7,
   "metadata": {},
   "outputs": [],
   "source": [
    "%matplotlib inline\n",
    "import matplotlib.pyplot as plt"
   ]
  },
  {
   "cell_type": "code",
   "execution_count": 8,
   "metadata": {},
   "outputs": [
    {
     "data": {
      "image/png": "[encoded data removed]",
      "text/plain": [
       "<Figure size 720x216 with 1 Axes>"
      ]
     },
     "metadata": {},
     "output_type": "display_data"
    }
   ],
   "source": [
    "plt.figure(figsize=(10, 3))\n",
    "plt.plot([\n",
    "    x\n",
    "    for i, x in eds['Abdominal pain'].phenotypes.items()\n",
    "], '.')\n",
    "plt.xticks(range(len(eds['Abdominal pain'].keys())), list(eds['Abdominal pain'].keys()), rotation=90)\n",
    "plt.title(\"Correlations with Abdominal Pain\")\n",
    "plt.ylabel(\"Correlation\")\n",
    "plt.xlabel(\"Phenotype\")\n",
    "plt.show()"
   ]
  },
  {
   "cell_type": "markdown",
   "metadata": {},
   "source": [
    "# \"Which phenotype is correlated most closely with abdominal pain?\""
   ]
  },
  {
   "cell_type": "code",
   "execution_count": 9,
   "metadata": {},
   "outputs": [],
   "source": [
    "import numpy as np"
   ]
  },
  {
   "cell_type": "code",
   "execution_count": 10,
   "metadata": {},
   "outputs": [
    {
     "data": {
      "text/plain": [
       "('Constipation', 0.2581311591320852)"
      ]
     },
     "execution_count": 10,
     "metadata": {},
     "output_type": "execute_result"
    }
   ],
   "source": [
    "list(eds['Abdominal pain'].phenotypes.items())[\n",
    "    np.argmax([x for i,x in eds['Abdominal pain'].phenotypes.items()])\n",
    "]"
   ]
  },
  {
   "cell_type": "markdown",
   "metadata": {},
   "source": [
    "# Which phenotype is least correlated with abdominal pain?"
   ]
  },
  {
   "cell_type": "code",
   "execution_count": 11,
   "metadata": {},
   "outputs": [
    {
     "data": {
      "text/plain": [
       "('Urinary hesitancy', 0.12446936150663032)"
      ]
     },
     "execution_count": 11,
     "metadata": {},
     "output_type": "execute_result"
    }
   ],
   "source": [
    "list(eds['Abdominal pain'].phenotypes.items())[\n",
    "    np.argmin([x for i,x in eds['Abdominal pain'].phenotypes.items()])\n",
    "]"
   ]
  },
  {
   "cell_type": "code",
   "execution_count": null,
   "metadata": {},
   "outputs": [],
   "source": []
  }
 ],
 "metadata": {
  "kernelspec": {
   "display_name": "Python 3",
   "language": "python",
   "name": "python3"
  },
  "language_info": {
   "codemirror_mode": {
    "name": "ipython",
    "version": 3
   },
   "file_extension": ".py",
   "mimetype": "text/x-python",
   "name": "python",
   "nbconvert_exporter": "python",
   "pygments_lexer": "ipython3",
   "version": "3.7.2"
  }
 },
 "nbformat": 4,
 "nbformat_minor": 2
}
